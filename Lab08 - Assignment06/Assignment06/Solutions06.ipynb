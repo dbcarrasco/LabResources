{
 "cells": [
  {
   "cell_type": "markdown",
   "metadata": {},
   "source": [
    "# Assignment 06\n",
    "\n",
    "**Due:** 2018-04-10, 11:59 PM, as an IPython notebook (with related files) submitted via your repo in the course GitHub organization.  Use the solutions template notebook, and **be sure not to modify the subproblem cells** in your solution file (put your work in *new* cells)."
   ]
  },
  {
   "cell_type": "markdown",
   "metadata": {
    "tags": [
     "problem=1.1",
     "points=2"
    ]
   },
   "source": [
    "### Problem 1.1 (2 points):\n",
    "\n",
    "Consider a two-state homogeneous Markov chain; let's label the states with the integers 0 and 1.  Suppose the probability for a transition from state 0 to state 1 is $\\alpha$, and that for a transition from state 1 to state 0 is $\\beta$.\n",
    "\n",
    "> * Write down the transition matrix defining this Markov chain.\n",
    "* Derive the equillibrium distribution PMF from the transition matrix. You should find that it has the following probabilities for states 0 and 1, respectively:\n",
    "\\begin{align}\n",
    "p_0 &= \\frac{\\beta}{\\alpha + \\beta},\\\\\n",
    "p_1 &= \\frac{\\alpha}{\\alpha + \\beta}.\\\\\n",
    "\\end{align}"
   ]
  },
  {
   "cell_type": "markdown",
   "metadata": {
    "tags": [
     "problem=1.2",
     "points=3"
    ]
   },
   "source": [
    "### Problem 1.2 (3 points):\n",
    "\n",
    "Use the `TwoStateMarkovChain` class in your solution notebook to explore the behavior of two-state chains, creating instances for chains and plotting their behavior using the `plot_evol()` method.\n",
    "\n",
    "> * Create a chain with $(\\alpha,\\beta) = (0.07,0.03)$, and an initializer that starts out of equillibrium.  Simulate sample paths that illustrate convergence of the chain to equillibrium, i.e., with the evolution plot clearly showing out-of-equillibrium behavior at early times.\n",
    "> * Using the same $(\\alpha,\\beta)$, show that the equillibrium distribution really is an equillibrium distribution by simulating paths initialized from the equillibrium distribution, and showing that the distribution is maintained.\n",
    "> * Using paths of the same length that you used above, create **two** new chains, with the same equillibrium distribution, one of which converges so slowly that equillibrium is not reached, and one that converges more quickly than the $(0.07,0.03)$ chain."
   ]
  },
  {
   "cell_type": "markdown",
   "metadata": {
    "tags": [
     "problem=2.1",
     "points=2"
    ]
   },
   "source": [
    "### Problem 2.1 (2 points):\n",
    "\n",
    "> Add a new method, with signature `sample_rwm(self, n, w, param0)`, that implements the MRW algorithm for sampling from the posterior distribution, using a flat candidate distribution of width `w` centered at the current sample.  Calling it should start a Markov chain with the parameter value `param0`, and return an array of `n` samples that are approximate draws from the posterior distribution, along with an estimate of the acceptance rate of the chain."
   ]
  },
  {
   "cell_type": "markdown",
   "metadata": {
    "tags": [
     "problem=2.2",
     "points=3"
    ]
   },
   "source": [
    "### Problem 2.2 (3 points):\n",
    "\n",
    "Explore the behavior of the RWM algorithm in the notebook by doing the following for a Cauchy inference instance; use the `CauchyLocationInference` class in the included `poisson_binomial_cauchy` module.  Use the same simulated dataset for each case.\n",
    "\n",
    "> * Plot a trace plot showing 3 sample paths for a choice of `w` for which the Markov chain has too small of an acceptance rate, so that it stays \"stuck\" for a long time (10s or 100s of time steps).\n",
    "* Plot a trace plot showing 3 sample paths for a choice of `w` for which the Markov chain has too large of an acceptance rate, so that it wanders slowly, not sufficiently exploring the posterior distribution.\n",
    "* Plot a trace plot showing 1 sample path for a choice of `w` that gives an acceptance rate somewhere between 20% to 50%.  Additionally, produce a plot showing the PDF as a solid curve, and a histogram of the MCMC samples."
   ]
  }
 ],
 "metadata": {
  "celltoolbar": "Tags",
  "kernelspec": {
   "display_name": "Python 3",
   "language": "python",
   "name": "python3"
  },
  "language_info": {
   "codemirror_mode": {
    "name": "ipython",
    "version": 3
   },
   "file_extension": ".py",
   "mimetype": "text/x-python",
   "name": "python",
   "nbconvert_exporter": "python",
   "pygments_lexer": "ipython3",
   "version": "3.6.4"
  }
 },
 "nbformat": 4,
 "nbformat_minor": 2
}
