{
 "cells": [
  {
   "cell_type": "markdown",
   "metadata": {},
   "source": [
    "# Assignment 07\n",
    "\n",
    "**Due:** 2015-04-19, 11:59 PM, as a Jupyter notebook (with related files) submitted via your repo in the course GitHub organization.  Use the solutions template notebook, and **be sure not to modify the subproblem cells** in your solution file."
   ]
  },
  {
   "cell_type": "markdown",
   "metadata": {},
   "source": [
    "## 0. Install PyStan (not graded!)\n",
    "\n",
    "In future labs we'll be using the probabilistic programming language **Stan**, via its *PyStan* implementation.  So we aren't hampered by installation problems in future labs, please make a point during the coming week (the earlier the better!) to **install PyStan on your computer**.  I will post installation instructions in our [CU-BDA-2018/CourseInfo](https://github.com/CU-BDA-2018/CourseInfo) repo this weekend; keep an eye out for an announcement about this.\n",
    "\n",
    "*Windows users note:* You may have a bit of a harder time installing PyStan, due to Stan requiring a C++ compiler. Please see the instructions and attempt the installation as soon as possible, so we can sort out any difficulties before the next assignment."
   ]
  },
  {
   "cell_type": "markdown",
   "metadata": {},
   "source": [
    "## 1. Interactive plotting of bivariate normal distributions\n",
    "\n",
    "In this part of the assignment, you'll write code to interactively plot a bivariate normal (BVN), both to develop insight into BVNs, and to gain experience with building interactive plots.  Use the `BivariateNormal` class in the `bvn.py` module provided with this assignment."
   ]
  },
  {
   "cell_type": "markdown",
   "metadata": {
    "tags": [
     "problem=1.1",
     "points=3"
    ]
   },
   "source": [
    "### Problem 1.1 (3 points):\n",
    "\n",
    "> * Add new methods to the `BivariateNormal` class, `y_x_pdf(self, x, yvals)` and `x_y_pdf(self, y, xvals)`, that evaluate the conditional PDFs for $y$ given $x$ and $x$ given $y$ (respectively), on an array of values of the target variable given the conditioning variable.\n",
    "* In the notebook, write a function `plot_bvn_rho_cond(rho, x)` that plots a standard BVN distribution with correlation coefficient `rho`, the same way the `plot_rho` function in the `bvn` module does.  In addition, it should plot a vertical line on the plot at `x`, and, in a separate set of axes, plot the conditional PDF for $y$ given $x$ with the specified `x` value.\n",
    "There is more than one good way to do this, and depending on how you implement it, you may condition on $y$ instead of $x$ if that makes your plot look better.\n",
    "* Using your new function, create an interactive widget that displays the joint and conditional PDFs with sliders controlling `rho` and `x`."
   ]
  },
  {
   "cell_type": "markdown",
   "metadata": {},
   "source": [
    "## 2. Gibbs sampling of bivariate normal distributions\n",
    "\n",
    "In this part of the assignment, you'll write your own Gibbs sampler for drawing samples from a bivariate normal (BVN).  Use the `BivariateNormal` class in the `bvn.py` module provided with this assignment."
   ]
  },
  {
   "cell_type": "markdown",
   "metadata": {
    "tags": [
     "problem=2.1",
     "points=3"
    ]
   },
   "source": [
    "### Problem 2.1 (3 points):\n",
    "\n",
    "> Add two methods to the `BivariateNormal` class that sample from the (full) conditionals for each variable, `x` and `y`:\n",
    "\n",
    "> * Write a method `y_x_sample(self, x)` that returns a single $y$ sample from the conditional distribution $p(y|x)$.\n",
    "* Write a method `x_y_sample(self, y)` that returns a single $x$ sample from the conditional distribution $p(x|y)$.\n",
    "* Plot a BVN example with nonzero $\\rho$ (using `plot_bvn`), including a vertical and horizontal line indicating a selection of an $x$ and $y$ value (your choice) for which you'll plot conditional distributions (for the complementary variable).  Produce two more plots (corresponding to the chosen $x$ and $y$), each with a smooth curve showing the conditional PDF, and a histogram of a few hundred samples from your samplers."
   ]
  },
  {
   "cell_type": "markdown",
   "metadata": {
    "tags": [
     "problem=2.2",
     "points=4"
    ]
   },
   "source": [
    "### Problem 2.2 (4 points):\n",
    "\n",
    "Implement the Gibbs sampler, demonstrating its operation twice, with modestly and highly correlated BVN cases.\n",
    "\n",
    "> * Write a function `gibbs(bvn, n)` that takes a `BivariateNormal` instance, `bvn`, and an integer, `n`, and returns a list (or array) of (x,y) pairs sampled from `bvn` using the Gibbs sampling algorithm, with random selection of which variable to update on each iteration.\n",
    "> * Use your function to sample a few hundred points from a BVN case with $\\rho=1/2$.  Produce three plots showing the samples:  one based upon a `plot_bvn` plot, showing the sample path in the $(x,y)$ plane, and two other trace plots showing the $x$ and $y$ sample paths.\n",
    "> * Do the same thing, but now for a BVN case with $\\rho=0.97$.\n",
    "> * In a Markdown cell, briefly comment on how the Gibbs sampler behaves in the two cases."
   ]
  }
 ],
 "metadata": {
  "celltoolbar": "Tags",
  "kernelspec": {
   "display_name": "Python 3",
   "language": "python",
   "name": "python3"
  },
  "language_info": {
   "codemirror_mode": {
    "name": "ipython",
    "version": 3
   },
   "file_extension": ".py",
   "mimetype": "text/x-python",
   "name": "python",
   "nbconvert_exporter": "python",
   "pygments_lexer": "ipython3",
   "version": "3.6.4"
  }
 },
 "nbformat": 4,
 "nbformat_minor": 2
}
